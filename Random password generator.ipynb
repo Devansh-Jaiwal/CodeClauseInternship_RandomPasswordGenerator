{
 "cells": [
  {
   "cell_type": "code",
   "execution_count": null,
   "id": "2f3a28a9",
   "metadata": {},
   "outputs": [],
   "source": [
    "import random\n",
    "\n",
    "chars = \"abcdefghijklmnopqrstuvwxyzABCDEFGHIJKLMNOPQRSTUVWXYZ123456987$@!&*(.)?^!\"\n",
    "\n",
    "\n",
    "while 1:\n",
    "    password_len =int(input(\"What length would you like your password to be : \"))\n",
    "    password_count = int(input(\"How many password would you like to have :\"))\n",
    "    for x in range (0,password_count):\n",
    "        password =\"\"\n",
    "        for x in range(0,password_len):\n",
    "            password_char =random.choice(chars)\n",
    "            password      = password+password_char\n",
    "        print(\"Here is your Password :\",password)"
   ]
  },
  {
   "cell_type": "code",
   "execution_count": null,
   "id": "b8973741",
   "metadata": {},
   "outputs": [],
   "source": []
  }
 ],
 "metadata": {
  "kernelspec": {
   "display_name": "Python 3 (ipykernel)",
   "language": "python",
   "name": "python3"
  },
  "language_info": {
   "codemirror_mode": {
    "name": "ipython",
    "version": 3
   },
   "file_extension": ".py",
   "mimetype": "text/x-python",
   "name": "python",
   "nbconvert_exporter": "python",
   "pygments_lexer": "ipython3",
   "version": "3.9.7"
  }
 },
 "nbformat": 4,
 "nbformat_minor": 5
}
